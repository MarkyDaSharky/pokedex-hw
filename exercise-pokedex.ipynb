{
 "cells": [
  {
   "cell_type": "markdown",
   "id": "5313ddb1",
   "metadata": {},
   "source": [
    "# Exercise"
   ]
  },
  {
   "cell_type": "markdown",
   "id": "0e8e1174",
   "metadata": {},
   "source": [
    "#### Pokemon API Wrapper"
   ]
  },
  {
   "cell_type": "markdown",
   "id": "78236be6",
   "metadata": {},
   "source": [
    "Create a python wrapper for the Pokemon API. It should take in a pokemon name and display the pokemon with its height and weight"
   ]
  },
  {
   "cell_type": "code",
   "execution_count": 1,
   "id": "291e07f2",
   "metadata": {},
   "outputs": [],
   "source": [
    "import requests\n",
    "\n",
    "class PokemonAPI:\n",
    "    \n",
    "    def __init__(self):\n",
    "        self.base_url = 'https://pokeapi.co/api/v2/pokemon/'\n",
    "        \n",
    "        \n",
    "        \n",
    "    def _get(self, pokemon_name):\n",
    "        res = requests.get(f'{self.base_url}/{pokemon_name}/')\n",
    "        if res.ok:\n",
    "            return res.json()\n",
    "        else:\n",
    "            print(\"there was an error\")\n",
    "        \n",
    "        \n",
    "    def get_pokemon(self, pokemon):\n",
    "        data = self._get(pokemon.lower())\n",
    "        height = data['height']\n",
    "        weight = data['weight']\n",
    "        print(f'{pokemon} is {height} feet tall and {weight} lbs')\n",
    "        \n",
    "\n",
    "        \n",
    "pokedex = PokemonAPI()"
   ]
  },
  {
   "cell_type": "code",
   "execution_count": 2,
   "id": "1d08daf6",
   "metadata": {},
   "outputs": [
    {
     "name": "stdout",
     "output_type": "stream",
     "text": [
      "Mewtwo is 20 feet tall and 1220 lbs\n"
     ]
    }
   ],
   "source": [
    "pokedex.get_pokemon('Mewtwo')"
   ]
  }
 ],
 "metadata": {
  "kernelspec": {
   "display_name": "Python 3 (ipykernel)",
   "language": "python",
   "name": "python3"
  },
  "language_info": {
   "codemirror_mode": {
    "name": "ipython",
    "version": 3
   },
   "file_extension": ".py",
   "mimetype": "text/x-python",
   "name": "python",
   "nbconvert_exporter": "python",
   "pygments_lexer": "ipython3",
   "version": "3.9.7"
  }
 },
 "nbformat": 4,
 "nbformat_minor": 5
}
